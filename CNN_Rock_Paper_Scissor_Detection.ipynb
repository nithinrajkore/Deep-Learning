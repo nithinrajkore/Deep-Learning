{
 "cells": [
  {
   "cell_type": "code",
   "execution_count": 19,
   "id": "91a7a035",
   "metadata": {},
   "outputs": [],
   "source": [
    "# loading packages\n",
    "import tensorflow as tf\n",
    "from keras.preprocessing.image import ImageDataGenerator\n",
    "\n",
    "from keras.preprocessing import image\n",
    "import numpy as np\n"
   ]
  },
  {
   "cell_type": "markdown",
   "id": "5752a743",
   "metadata": {},
   "source": [
    "### Loading images"
   ]
  },
  {
   "cell_type": "code",
   "execution_count": 3,
   "id": "a8382b41",
   "metadata": {},
   "outputs": [
    {
     "name": "stdout",
     "output_type": "stream",
     "text": [
      "Found 2520 images belonging to 3 classes.\n"
     ]
    }
   ],
   "source": [
    "# loading and trasforming train set\n",
    "\n",
    "train_datagen = ImageDataGenerator(rescale = 1./255,\n",
    "                                  shear_range = 0.2,\n",
    "                                  zoom_range = 0.2,\n",
    "                                  horizontal_flip = True)\n",
    "train_set = train_datagen.flow_from_directory('RockPaperScissor_Detection/rps/rps',\n",
    "                                             target_size = (64, 64),\n",
    "                                             batch_size = 32,\n",
    "                                             class_mode = 'categorical')\n"
   ]
  },
  {
   "cell_type": "code",
   "execution_count": 11,
   "id": "54eadc79",
   "metadata": {},
   "outputs": [
    {
     "name": "stdout",
     "output_type": "stream",
     "text": [
      "Found 372 images belonging to 3 classes.\n"
     ]
    }
   ],
   "source": [
    "# loading and transforming test set\n",
    "\n",
    "test_datagen = ImageDataGenerator(rescale = 1./255)\n",
    "test_set = test_datagen.flow_from_directory('RockPaperScissor_Detection/rps-test-set/rps-test-set',\n",
    "                                           target_size = (64, 64),\n",
    "                                           batch_size = 32,\n",
    "                                           class_mode = 'categorical')\n"
   ]
  },
  {
   "cell_type": "markdown",
   "id": "cd630567",
   "metadata": {},
   "source": [
    "### Building a CNN"
   ]
  },
  {
   "cell_type": "code",
   "execution_count": 5,
   "id": "dc30bfa4",
   "metadata": {},
   "outputs": [],
   "source": [
    "# initalize CNN\n",
    "cnn = tf.keras.models.Sequential()"
   ]
  },
  {
   "cell_type": "code",
   "execution_count": 6,
   "id": "82be4f62",
   "metadata": {},
   "outputs": [],
   "source": [
    "# Add Convolution layer and maxpooling layer\n",
    "\n",
    "cnn.add(tf.keras.layers.Conv2D(filters = 32, \n",
    "                               kernel_size = 3, \n",
    "                               activation = 'relu',\n",
    "                              input_shape = [64, 64, 3]))\n",
    "\n",
    "cnn.add(tf.keras.layers.MaxPool2D(pool_size = (3, 3), strides = 2))"
   ]
  },
  {
   "cell_type": "code",
   "execution_count": 7,
   "id": "131d20dd",
   "metadata": {},
   "outputs": [],
   "source": [
    "# Add second Convolution layer and maxpooling layer\n",
    "cnn.add(tf.keras.layers.Conv2D(filters = 32, \n",
    "                               kernel_size = 3, \n",
    "                               activation = 'relu'))\n",
    "cnn.add(tf.keras.layers.MaxPool2D(pool_size = (3, 3), strides = 2))"
   ]
  },
  {
   "cell_type": "code",
   "execution_count": 8,
   "id": "bc4e042d",
   "metadata": {},
   "outputs": [],
   "source": [
    "# Flatten layer\n",
    "cnn.add(tf.keras.layers.Flatten())"
   ]
  },
  {
   "cell_type": "code",
   "execution_count": 12,
   "id": "cf692020",
   "metadata": {},
   "outputs": [],
   "source": [
    "# Adding Full Connection\n",
    "cnn.add(tf.keras.layers.Dense(units = 128, activation = 'relu'))"
   ]
  },
  {
   "cell_type": "code",
   "execution_count": 13,
   "id": "4b285942",
   "metadata": {},
   "outputs": [],
   "source": [
    "# Add output layer\n",
    "cnn.add(tf.keras.layers.Dense(units = 3, activation = 'softmax'))"
   ]
  },
  {
   "cell_type": "markdown",
   "id": "6899694e",
   "metadata": {},
   "source": [
    "### Training a CNN"
   ]
  },
  {
   "cell_type": "code",
   "execution_count": 14,
   "id": "59a0aa61",
   "metadata": {},
   "outputs": [],
   "source": [
    "# Compile CNN\n",
    "cnn.compile(optimizer = 'adam', loss = 'categorical_crossentropy', metrics = ['accuracy'])"
   ]
  },
  {
   "cell_type": "code",
   "execution_count": 15,
   "id": "061b4552",
   "metadata": {},
   "outputs": [
    {
     "name": "stdout",
     "output_type": "stream",
     "text": [
      "Epoch 1/30\n",
      "79/79 [==============================] - 6s 72ms/step - loss: 0.6244 - accuracy: 0.7341 - val_loss: 0.3515 - val_accuracy: 0.8790\n",
      "Epoch 2/30\n",
      "79/79 [==============================] - 6s 71ms/step - loss: 0.1167 - accuracy: 0.9683 - val_loss: 0.2066 - val_accuracy: 0.9274\n",
      "Epoch 3/30\n",
      "79/79 [==============================] - 6s 71ms/step - loss: 0.0463 - accuracy: 0.9885 - val_loss: 0.2469 - val_accuracy: 0.8978\n",
      "Epoch 4/30\n",
      "79/79 [==============================] - 5s 69ms/step - loss: 0.0383 - accuracy: 0.9917 - val_loss: 0.4394 - val_accuracy: 0.8629\n",
      "Epoch 5/30\n",
      "79/79 [==============================] - 6s 69ms/step - loss: 0.0397 - accuracy: 0.9925 - val_loss: 0.6064 - val_accuracy: 0.8441\n",
      "Epoch 6/30\n",
      "79/79 [==============================] - 5s 64ms/step - loss: 0.0232 - accuracy: 0.9921 - val_loss: 0.3973 - val_accuracy: 0.8871\n",
      "Epoch 7/30\n",
      "79/79 [==============================] - 5s 64ms/step - loss: 0.0092 - accuracy: 0.9976 - val_loss: 0.3512 - val_accuracy: 0.8952\n",
      "Epoch 8/30\n",
      "79/79 [==============================] - 5s 65ms/step - loss: 0.0044 - accuracy: 0.9988 - val_loss: 0.3932 - val_accuracy: 0.9059\n",
      "Epoch 9/30\n",
      "79/79 [==============================] - 5s 65ms/step - loss: 0.0059 - accuracy: 0.9976 - val_loss: 0.5535 - val_accuracy: 0.8602\n",
      "Epoch 10/30\n",
      "79/79 [==============================] - 5s 67ms/step - loss: 0.0142 - accuracy: 0.9960 - val_loss: 0.6355 - val_accuracy: 0.8602\n",
      "Epoch 11/30\n",
      "79/79 [==============================] - 5s 64ms/step - loss: 0.0288 - accuracy: 0.9909 - val_loss: 0.4403 - val_accuracy: 0.8790\n",
      "Epoch 12/30\n",
      "79/79 [==============================] - 5s 65ms/step - loss: 0.0057 - accuracy: 0.9988 - val_loss: 0.3359 - val_accuracy: 0.9247\n",
      "Epoch 13/30\n",
      "79/79 [==============================] - 5s 66ms/step - loss: 0.0019 - accuracy: 0.9996 - val_loss: 0.4310 - val_accuracy: 0.9167\n",
      "Epoch 14/30\n",
      "79/79 [==============================] - 5s 65ms/step - loss: 0.0219 - accuracy: 0.9937 - val_loss: 0.5908 - val_accuracy: 0.8118\n",
      "Epoch 15/30\n",
      "79/79 [==============================] - 5s 64ms/step - loss: 0.0186 - accuracy: 0.9944 - val_loss: 0.3423 - val_accuracy: 0.9005\n",
      "Epoch 16/30\n",
      "79/79 [==============================] - 5s 64ms/step - loss: 0.0093 - accuracy: 0.9976 - val_loss: 0.4120 - val_accuracy: 0.9059\n",
      "Epoch 17/30\n",
      "79/79 [==============================] - 5s 64ms/step - loss: 0.0061 - accuracy: 0.9988 - val_loss: 0.8985 - val_accuracy: 0.8414\n",
      "Epoch 18/30\n",
      "79/79 [==============================] - 5s 64ms/step - loss: 0.0027 - accuracy: 0.9992 - val_loss: 0.7788 - val_accuracy: 0.8522\n",
      "Epoch 19/30\n",
      "79/79 [==============================] - 5s 65ms/step - loss: 0.0135 - accuracy: 0.9956 - val_loss: 0.8556 - val_accuracy: 0.7957\n",
      "Epoch 20/30\n",
      "79/79 [==============================] - 5s 66ms/step - loss: 0.0066 - accuracy: 0.9980 - val_loss: 0.4147 - val_accuracy: 0.8925\n",
      "Epoch 21/30\n",
      "79/79 [==============================] - 5s 67ms/step - loss: 0.0027 - accuracy: 0.9992 - val_loss: 0.3342 - val_accuracy: 0.9220\n",
      "Epoch 22/30\n",
      "79/79 [==============================] - 5s 65ms/step - loss: 0.0029 - accuracy: 0.9988 - val_loss: 0.4315 - val_accuracy: 0.9220\n",
      "Epoch 23/30\n",
      "79/79 [==============================] - 5s 64ms/step - loss: 3.7410e-04 - accuracy: 1.0000 - val_loss: 0.4150 - val_accuracy: 0.9167\n",
      "Epoch 24/30\n",
      "79/79 [==============================] - 5s 64ms/step - loss: 0.0030 - accuracy: 0.9984 - val_loss: 0.4267 - val_accuracy: 0.9032\n",
      "Epoch 25/30\n",
      "79/79 [==============================] - 5s 65ms/step - loss: 8.3264e-04 - accuracy: 0.9996 - val_loss: 0.4562 - val_accuracy: 0.8952\n",
      "Epoch 26/30\n",
      "79/79 [==============================] - 5s 66ms/step - loss: 0.0028 - accuracy: 0.9992 - val_loss: 0.4378 - val_accuracy: 0.8871\n",
      "Epoch 27/30\n",
      "79/79 [==============================] - 5s 65ms/step - loss: 0.0020 - accuracy: 0.9992 - val_loss: 0.8719 - val_accuracy: 0.8253\n",
      "Epoch 28/30\n",
      "79/79 [==============================] - 5s 64ms/step - loss: 0.0010 - accuracy: 1.0000 - val_loss: 0.5777 - val_accuracy: 0.8978\n",
      "Epoch 29/30\n",
      "79/79 [==============================] - 5s 64ms/step - loss: 5.4424e-04 - accuracy: 1.0000 - val_loss: 0.4895 - val_accuracy: 0.9113\n",
      "Epoch 30/30\n",
      "79/79 [==============================] - 5s 64ms/step - loss: 2.3346e-04 - accuracy: 1.0000 - val_loss: 0.5648 - val_accuracy: 0.9032\n"
     ]
    },
    {
     "data": {
      "text/plain": [
       "<keras.src.callbacks.History at 0x14c55f700>"
      ]
     },
     "execution_count": 15,
     "metadata": {},
     "output_type": "execute_result"
    }
   ],
   "source": [
    "# training CNN and validating using test set\n",
    "\n",
    "cnn.fit(x = train_set, validation_data = test_set, epochs = 30)\n"
   ]
  },
  {
   "cell_type": "markdown",
   "id": "481c162d",
   "metadata": {},
   "source": [
    "### Making a single prediction"
   ]
  },
  {
   "cell_type": "code",
   "execution_count": null,
   "id": "5dd949d7",
   "metadata": {},
   "outputs": [],
   "source": [
    "class_dict = train_set.class_indices\n",
    "class_dict = {v:k for k,v in class_dict.items()}\n",
    "class_dict"
   ]
  },
  {
   "cell_type": "code",
   "execution_count": 62,
   "id": "df3fd978",
   "metadata": {},
   "outputs": [
    {
     "name": "stdout",
     "output_type": "stream",
     "text": [
      "1/1 [==============================] - 0s 11ms/step\n",
      "The given image shows rock\n"
     ]
    },
    {
     "data": {
      "text/plain": [
       "array([0., 1., 0.], dtype=float32)"
      ]
     },
     "execution_count": 62,
     "metadata": {},
     "output_type": "execute_result"
    }
   ],
   "source": [
    "test_image = image.load_img('RockPaperScissor_Detection/rps-validation/rock7.png',\n",
    "                           target_size = (64, 64))\n",
    "test_image = image.img_to_array(test_image)\n",
    "test_image = np.expand_dims(test_image, axis = 0)\n",
    "result = cnn.predict(test_image)\n",
    "print(f\"The given image shows {class_dict[np.where(result[0] == 1)[0][0]]}\")\n",
    "result[0]"
   ]
  },
  {
   "cell_type": "code",
   "execution_count": 59,
   "id": "fee467eb",
   "metadata": {},
   "outputs": [
    {
     "name": "stdout",
     "output_type": "stream",
     "text": [
      "1/1 [==============================] - 0s 11ms/step\n",
      "The given image shows paper\n"
     ]
    },
    {
     "data": {
      "text/plain": [
       "array([1., 0., 0.], dtype=float32)"
      ]
     },
     "execution_count": 59,
     "metadata": {},
     "output_type": "execute_result"
    }
   ],
   "source": [
    "test_image = image.load_img('RockPaperScissor_Detection/rps-validation/paper3.png',\n",
    "                           target_size = (64, 64))\n",
    "test_image = image.img_to_array(test_image)\n",
    "test_image = np.expand_dims(test_image, axis = 0)\n",
    "result = cnn.predict(test_image)\n",
    "print(f\"The given image shows {class_dict[np.where(result[0] == 1)[0][0]]}\")\n",
    "result[0]"
   ]
  },
  {
   "cell_type": "code",
   "execution_count": 61,
   "id": "54695c61",
   "metadata": {},
   "outputs": [
    {
     "name": "stdout",
     "output_type": "stream",
     "text": [
      "1/1 [==============================] - 0s 13ms/step\n",
      "The given image shows scissors\n"
     ]
    },
    {
     "data": {
      "text/plain": [
       "array([0., 0., 1.], dtype=float32)"
      ]
     },
     "execution_count": 61,
     "metadata": {},
     "output_type": "execute_result"
    }
   ],
   "source": [
    "test_image = image.load_img('RockPaperScissor_Detection/rps-validation/scissors4.png',\n",
    "                           target_size = (64, 64))\n",
    "test_image = image.img_to_array(test_image)\n",
    "test_image = np.expand_dims(test_image, axis = 0)\n",
    "result = cnn.predict(test_image)\n",
    "print(f\"The given image shows {class_dict[np.where(result[0] == 1)[0][0]]}\")\n",
    "result[0]"
   ]
  },
  {
   "cell_type": "code",
   "execution_count": null,
   "id": "02eeea42",
   "metadata": {},
   "outputs": [],
   "source": []
  }
 ],
 "metadata": {
  "kernelspec": {
   "display_name": "Python 3 (ipykernel)",
   "language": "python",
   "name": "python3"
  },
  "language_info": {
   "codemirror_mode": {
    "name": "ipython",
    "version": 3
   },
   "file_extension": ".py",
   "mimetype": "text/x-python",
   "name": "python",
   "nbconvert_exporter": "python",
   "pygments_lexer": "ipython3",
   "version": "3.10.9"
  }
 },
 "nbformat": 4,
 "nbformat_minor": 5
}

{
 "cells": [
  {
   "cell_type": "code",
   "execution_count": 169,
   "id": "fcb78bb7",
   "metadata": {},
   "outputs": [
    {
     "name": "stdout",
     "output_type": "stream",
     "text": [
      "[1, 1, 1, 1]\n"
     ]
    }
   ],
   "source": [
    "import numpy as np\n",
    "\n",
    "# sigmoid function\n",
    "def nonlin(x,deriv=False):\n",
    "\n",
    "    if(deriv==True):\n",
    "\n",
    "        return x*(1-x)\n",
    "\n",
    "    return 1/(1+np.exp(-x))\n",
    "\n",
    "# input dataset\n",
    "# X = np.array([  [0,0,1],[0,1,1],[1,0,1],[1,1,1] ])\n",
    "X = np.array([  [0,0,1],[0,1,1],[1,0,1],[1,1,1] ])\n",
    "\n",
    "# output dataset           \n",
    "y = np.array([[1,2,2,3]]).T\n",
    "\n",
    "# seed random numbers to make calculation\n",
    "\n",
    "# deterministic (just a good practice)\n",
    "np.random.seed(1)\n",
    "\n",
    " \n",
    "# initialize weights randomly with mean 0\n",
    "# syn0 = 2*np.random.random((3,1)) - 1\n",
    "syn0 = np.array([[2.0],[3.0],[1.0]])\n",
    "\n",
    " \n",
    "\n",
    "for iter in range(50):\n",
    "\n",
    "    # forward propagation\n",
    "    l0 = X\n",
    "    l1 = nonlin(np.dot(l0,syn0))\n",
    "    \n",
    "    # how much did we miss?\n",
    "    l1_error = y - l1\n",
    "    \n",
    "    # multiply how much we missed by the\n",
    "\n",
    "    # slope of the sigmoid at the values in l1\n",
    "    l1_delta = l1_error * nonlin(l1,True)\n",
    "\n",
    "    # update weights\n",
    "    syn0 += np.dot(l0.T,l1_delta)\n",
    "\n",
    "# print(\"Output After Training:\")\n",
    "    \n",
    "# print(l1)\n",
    "print([1 if l >= 0.5 else 0 for l in l1])\n",
    "#     break\n"
   ]
  },
  {
   "cell_type": "code",
   "execution_count": 168,
   "id": "adb972cb",
   "metadata": {},
   "outputs": [
    {
     "data": {
      "text/plain": [
       "0.15462287263112715"
      ]
     },
     "execution_count": 168,
     "metadata": {},
     "output_type": "execute_result"
    }
   ],
   "source": [
    "nonlin(-2.10201063+0.40321687)"
   ]
  },
  {
   "cell_type": "code",
   "execution_count": 159,
   "id": "a62658f1",
   "metadata": {},
   "outputs": [
    {
     "data": {
      "text/plain": [
       "array([[ 3.93450403],\n",
       "       [ 0.40321687],\n",
       "       [-2.10201063]])"
      ]
     },
     "execution_count": 159,
     "metadata": {},
     "output_type": "execute_result"
    }
   ],
   "source": [
    "# syn0 = np.array([[2.0],[3.0],[1.0]])\n",
    "syn0"
   ]
  },
  {
   "cell_type": "code",
   "execution_count": 147,
   "id": "b1234647",
   "metadata": {},
   "outputs": [
    {
     "data": {
      "text/plain": [
       "array([[0, 0, 1, 1],\n",
       "       [0, 1, 0, 1],\n",
       "       [1, 1, 1, 1]])"
      ]
     },
     "execution_count": 147,
     "metadata": {},
     "output_type": "execute_result"
    }
   ],
   "source": [
    "l0 = X\n",
    "l0.T"
   ]
  },
  {
   "cell_type": "code",
   "execution_count": 148,
   "id": "7303bbb9",
   "metadata": {},
   "outputs": [
    {
     "data": {
      "text/plain": [
       "array([[1.],\n",
       "       [4.],\n",
       "       [3.],\n",
       "       [6.]])"
      ]
     },
     "execution_count": 148,
     "metadata": {},
     "output_type": "execute_result"
    }
   ],
   "source": [
    "np.dot(l0,syn0)"
   ]
  },
  {
   "cell_type": "code",
   "execution_count": 149,
   "id": "9a3ef930",
   "metadata": {},
   "outputs": [
    {
     "data": {
      "text/plain": [
       "array([[0.73105858],\n",
       "       [0.98201379],\n",
       "       [0.95257413],\n",
       "       [0.99752738]])"
      ]
     },
     "execution_count": 149,
     "metadata": {},
     "output_type": "execute_result"
    }
   ],
   "source": [
    "l1 = nonlin(np.dot(l0,syn0))\n",
    "l1"
   ]
  },
  {
   "cell_type": "code",
   "execution_count": 150,
   "id": "5591b245",
   "metadata": {},
   "outputs": [
    {
     "data": {
      "text/plain": [
       "0.2992990941211022"
      ]
     },
     "execution_count": 150,
     "metadata": {},
     "output_type": "execute_result"
    }
   ],
   "source": [
    "1/(1+np.exp(0.85063774))"
   ]
  },
  {
   "cell_type": "code",
   "execution_count": 151,
   "id": "5eed177e",
   "metadata": {},
   "outputs": [
    {
     "data": {
      "text/plain": [
       "array([[-0.73105858],\n",
       "       [-0.98201379],\n",
       "       [ 0.04742587],\n",
       "       [ 0.00247262]])"
      ]
     },
     "execution_count": 151,
     "metadata": {},
     "output_type": "execute_result"
    }
   ],
   "source": [
    "l1_error = y - l1\n",
    "l1_error"
   ]
  },
  {
   "cell_type": "code",
   "execution_count": 152,
   "id": "75dbb816",
   "metadata": {},
   "outputs": [
    {
     "data": {
      "text/plain": [
       "0.19661193260838358"
      ]
     },
     "execution_count": 152,
     "metadata": {},
     "output_type": "execute_result"
    }
   ],
   "source": [
    "0.73105858 * (1 - 0.73105858)"
   ]
  },
  {
   "cell_type": "code",
   "execution_count": 153,
   "id": "7d7fdab6",
   "metadata": {},
   "outputs": [
    {
     "data": {
      "text/plain": [
       "array([[0.19661193],\n",
       "       [0.01766271],\n",
       "       [0.04517666],\n",
       "       [0.00246651]])"
      ]
     },
     "execution_count": 153,
     "metadata": {},
     "output_type": "execute_result"
    }
   ],
   "source": [
    "nonlin(l1,True)"
   ]
  },
  {
   "cell_type": "code",
   "execution_count": 154,
   "id": "5a81307f",
   "metadata": {},
   "outputs": [
    {
     "data": {
      "text/plain": [
       "-0.1437348383568594"
      ]
     },
     "execution_count": 154,
     "metadata": {},
     "output_type": "execute_result"
    }
   ],
   "source": [
    "0.19661193 * -0.73105858"
   ]
  },
  {
   "cell_type": "code",
   "execution_count": 155,
   "id": "7c230144",
   "metadata": {},
   "outputs": [
    {
     "data": {
      "text/plain": [
       "array([[-1.43734840e-01],\n",
       "       [-1.73450211e-02],\n",
       "       [ 2.14254253e-03],\n",
       "       [ 6.09874799e-06]])"
      ]
     },
     "execution_count": 155,
     "metadata": {},
     "output_type": "execute_result"
    }
   ],
   "source": [
    "delta  = l1_error * nonlin(l1,True)\n",
    "delta"
   ]
  },
  {
   "cell_type": "code",
   "execution_count": 156,
   "id": "c942e4be",
   "metadata": {},
   "outputs": [
    {
     "data": {
      "text/plain": [
       "array([[ 0.00214864],\n",
       "       [-0.01733892],\n",
       "       [-0.15893122]])"
      ]
     },
     "execution_count": 156,
     "metadata": {},
     "output_type": "execute_result"
    }
   ],
   "source": [
    "np.dot(l0.T,delta)"
   ]
  },
  {
   "cell_type": "code",
   "execution_count": 157,
   "id": "ee5a66d2",
   "metadata": {},
   "outputs": [
    {
     "data": {
      "text/plain": [
       "array([[2.00214864],\n",
       "       [2.98266108],\n",
       "       [0.84106878]])"
      ]
     },
     "execution_count": 157,
     "metadata": {},
     "output_type": "execute_result"
    }
   ],
   "source": [
    "syn0 += np.dot(l0.T,delta)\n",
    "syn0"
   ]
  },
  {
   "cell_type": "code",
   "execution_count": 161,
   "id": "0a7ad439",
   "metadata": {},
   "outputs": [
    {
     "data": {
      "text/plain": [
       "0.10890155214606909"
      ]
     },
     "execution_count": 161,
     "metadata": {},
     "output_type": "execute_result"
    }
   ],
   "source": [
    "1/(1+ np.exp(2.10201063))"
   ]
  },
  {
   "cell_type": "code",
   "execution_count": 172,
   "id": "d8f02795",
   "metadata": {},
   "outputs": [
    {
     "data": {
      "text/plain": [
       "124000.0"
      ]
     },
     "execution_count": 172,
     "metadata": {},
     "output_type": "execute_result"
    }
   ],
   "source": [
    "(110200.00 + 137800.00)/2"
   ]
  },
  {
   "cell_type": "code",
   "execution_count": 177,
   "id": "e4cfc13a",
   "metadata": {},
   "outputs": [],
   "source": [
    "import math"
   ]
  },
  {
   "cell_type": "code",
   "execution_count": null,
   "id": "9edaeb15",
   "metadata": {},
   "outputs": [],
   "source": [
    "p -> actuals\n",
    "q -> predicted\n",
    "H(p,q) = -sum(p(x)log(q(x)))"
   ]
  },
  {
   "cell_type": "code",
   "execution_count": 180,
   "id": "05e3a2bf",
   "metadata": {},
   "outputs": [
    {
     "data": {
      "text/plain": [
       "1.1270117631898076"
      ]
     },
     "execution_count": 180,
     "metadata": {},
     "output_type": "execute_result"
    }
   ],
   "source": [
    "-(math.log(0.9) + math.log(0.9) + math.log(0.4))"
   ]
  },
  {
   "cell_type": "code",
   "execution_count": 179,
   "id": "65cfc722",
   "metadata": {},
   "outputs": [
    {
     "data": {
      "text/plain": [
       "-0.10536051565782628"
      ]
     },
     "execution_count": 179,
     "metadata": {},
     "output_type": "execute_result"
    }
   ],
   "source": [
    "1* math.log(0.9)"
   ]
  },
  {
   "cell_type": "code",
   "execution_count": 181,
   "id": "d527d847",
   "metadata": {},
   "outputs": [
    {
     "data": {
      "text/plain": [
       "3.170085660698769"
      ]
     },
     "execution_count": 181,
     "metadata": {},
     "output_type": "execute_result"
    }
   ],
   "source": [
    "-(math.log(0.6) + math.log(0.7) + math.log(0.1))"
   ]
  },
  {
   "cell_type": "code",
   "execution_count": 182,
   "id": "4259bf81",
   "metadata": {},
   "outputs": [
    {
     "data": {
      "text/plain": [
       "-0.48945498979"
      ]
     },
     "execution_count": 182,
     "metadata": {},
     "output_type": "execute_result"
    }
   ],
   "source": [
    "-0.04575749056 - 0.04575749056 -0.39794000867"
   ]
  },
  {
   "cell_type": "code",
   "execution_count": 183,
   "id": "b8e87a8e",
   "metadata": {},
   "outputs": [
    {
     "data": {
      "text/plain": [
       "-1.37675070959"
      ]
     },
     "execution_count": 183,
     "metadata": {},
     "output_type": "execute_result"
    }
   ],
   "source": [
    "-0.22184874961 -0.15490195998 -1"
   ]
  },
  {
   "cell_type": "code",
   "execution_count": null,
   "id": "a2c8984a",
   "metadata": {},
   "outputs": [],
   "source": []
  }
 ],
 "metadata": {
  "kernelspec": {
   "display_name": "Python 3 (ipykernel)",
   "language": "python",
   "name": "python3"
  },
  "language_info": {
   "codemirror_mode": {
    "name": "ipython",
    "version": 3
   },
   "file_extension": ".py",
   "mimetype": "text/x-python",
   "name": "python",
   "nbconvert_exporter": "python",
   "pygments_lexer": "ipython3",
   "version": "3.10.9"
  }
 },
 "nbformat": 4,
 "nbformat_minor": 5
}

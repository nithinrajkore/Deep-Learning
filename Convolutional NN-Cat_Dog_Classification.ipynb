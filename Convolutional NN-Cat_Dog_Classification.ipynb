{
 "cells": [
  {
   "cell_type": "code",
   "execution_count": 30,
   "id": "a9ee27d9",
   "metadata": {},
   "outputs": [],
   "source": [
    "# import packages\n",
    "\n",
    "import numpy as np\n",
    "import tensorflow as tf\n",
    "from keras.preprocessing import image\n",
    "from keras.preprocessing.image import ImageDataGenerator"
   ]
  },
  {
   "cell_type": "markdown",
   "id": "83710a2e",
   "metadata": {},
   "source": [
    "### Data Preprocessing"
   ]
  },
  {
   "cell_type": "code",
   "execution_count": 31,
   "id": "b99edec9",
   "metadata": {},
   "outputs": [
    {
     "name": "stdout",
     "output_type": "stream",
     "text": [
      "Found 8000 images belonging to 2 classes.\n"
     ]
    }
   ],
   "source": [
    "# Preprocessing Trainset\n",
    "# these transformations are applied only on trainset\n",
    "# purpose: to avoid overfitting (more accuracy on trainset, less on test set)\n",
    "# transformations include some simple geometrical transformations, or zoom, or some rotations/ flips on the images.\n",
    "# the technical term for applying these transorfations on images is Image Augmentation.\n",
    "\n",
    "train_datagen = ImageDataGenerator(rescale = 1./255,\n",
    "                                   shear_range = 0.2,\n",
    "                                   zoom_range = 0.2,\n",
    "                                   horizontal_flip = True) \n",
    " \n",
    "training_set = train_datagen.flow_from_directory('dataset/training_set',\n",
    "                                                target_size = (64, 64),\n",
    "                                                batch_size = 32,\n",
    "                                                class_mode = 'binary')\n",
    "\n"
   ]
  },
  {
   "cell_type": "code",
   "execution_count": 32,
   "id": "bf0ffaa0",
   "metadata": {},
   "outputs": [
    {
     "name": "stdout",
     "output_type": "stream",
     "text": [
      "Found 2000 images belonging to 2 classes.\n"
     ]
    }
   ],
   "source": [
    "# Preprocessing Testset\n",
    "\n",
    "test_datagen = ImageDataGenerator(rescale = 1./255)\n",
    "test_set = train_datagen.flow_from_directory('dataset/test_set',\n",
    "                                             target_size = (64, 64),\n",
    "                                             batch_size = 32,\n",
    "                                             class_mode = 'binary')"
   ]
  },
  {
   "cell_type": "markdown",
   "id": "689cdc66",
   "metadata": {},
   "source": [
    "### Building a CNN"
   ]
  },
  {
   "cell_type": "code",
   "execution_count": 33,
   "id": "762b4e5d",
   "metadata": {},
   "outputs": [],
   "source": [
    "# Initialize a CNN\n",
    "cnn = tf.keras.models.Sequential()"
   ]
  },
  {
   "cell_type": "code",
   "execution_count": 34,
   "id": "8a75c3c3",
   "metadata": {},
   "outputs": [],
   "source": [
    "# Adding convolution layer\n",
    "# input_shape must be same as shape transformed using ImageDataGenerator\n",
    "# if images and b&w then input_shape = [64, 64, 1]\n",
    "cnn.add(tf.keras.layers.Conv2D(filters = 32, \n",
    "                               kernel_size = 3, \n",
    "                               activation = 'relu', \n",
    "                               input_shape = [64, 64, 3]))"
   ]
  },
  {
   "cell_type": "code",
   "execution_count": 35,
   "id": "2e0652a2",
   "metadata": {},
   "outputs": [],
   "source": [
    "# Applying Max Pooling\n",
    "cnn.add(tf.keras.layers.MaxPool2D(pool_size=(3, 3),\n",
    "                                  strides=2))"
   ]
  },
  {
   "cell_type": "code",
   "execution_count": 36,
   "id": "30056897",
   "metadata": {},
   "outputs": [],
   "source": [
    "# Adding second convolutional layer along with pooling\n",
    "# remove input_shape parameter, as it is required only for the first layer\n",
    "cnn.add(tf.keras.layers.Conv2D(filters = 32, \n",
    "                               kernel_size = 3, \n",
    "                               activation = 'relu'))\n",
    "cnn.add(tf.keras.layers.MaxPool2D(pool_size=(3, 3),\n",
    "                                  strides=2))"
   ]
  },
  {
   "cell_type": "code",
   "execution_count": 37,
   "id": "82f18760",
   "metadata": {},
   "outputs": [],
   "source": [
    "# Add flattenning layer\n",
    "cnn.add(tf.keras.layers.Flatten())"
   ]
  },
  {
   "cell_type": "code",
   "execution_count": 38,
   "id": "84286392",
   "metadata": {},
   "outputs": [],
   "source": [
    "# Full Connection\n",
    "cnn.add(tf.keras.layers.Dense(units = 128, \n",
    "                              activation = 'relu'))"
   ]
  },
  {
   "cell_type": "code",
   "execution_count": 39,
   "id": "51ae8c9a",
   "metadata": {},
   "outputs": [],
   "source": [
    "# Add an output layer\n",
    "cnn.add(tf.keras.layers.Dense(units = 1, \n",
    "                             activation = 'sigmoid'))"
   ]
  },
  {
   "cell_type": "markdown",
   "id": "b27dd91e",
   "metadata": {},
   "source": [
    "### Training a CNN"
   ]
  },
  {
   "cell_type": "code",
   "execution_count": 40,
   "id": "bb2ad780",
   "metadata": {},
   "outputs": [],
   "source": [
    "# Compile CNN\n",
    "cnn.compile(optimizer = 'adam', loss = 'binary_crossentropy', metrics = ['accuracy'])"
   ]
  },
  {
   "cell_type": "code",
   "execution_count": 41,
   "id": "b8ad29d3",
   "metadata": {},
   "outputs": [
    {
     "name": "stdout",
     "output_type": "stream",
     "text": [
      "Epoch 1/30\n",
      "250/250 [==============================] - 17s 67ms/step - loss: 0.6605 - accuracy: 0.5935 - val_loss: 0.6130 - val_accuracy: 0.6785\n",
      "Epoch 2/30\n",
      "250/250 [==============================] - 17s 67ms/step - loss: 0.6032 - accuracy: 0.6706 - val_loss: 0.5836 - val_accuracy: 0.6985\n",
      "Epoch 3/30\n",
      "250/250 [==============================] - 18s 72ms/step - loss: 0.5591 - accuracy: 0.7109 - val_loss: 0.5870 - val_accuracy: 0.6990\n",
      "Epoch 4/30\n",
      "250/250 [==============================] - 17s 68ms/step - loss: 0.5347 - accuracy: 0.7278 - val_loss: 0.5242 - val_accuracy: 0.7430\n",
      "Epoch 5/30\n",
      "250/250 [==============================] - 17s 68ms/step - loss: 0.5029 - accuracy: 0.7581 - val_loss: 0.5183 - val_accuracy: 0.7445\n",
      "Epoch 6/30\n",
      "250/250 [==============================] - 17s 67ms/step - loss: 0.4859 - accuracy: 0.7663 - val_loss: 0.5071 - val_accuracy: 0.7530\n",
      "Epoch 7/30\n",
      "250/250 [==============================] - 17s 67ms/step - loss: 0.4804 - accuracy: 0.7689 - val_loss: 0.4794 - val_accuracy: 0.7810\n",
      "Epoch 8/30\n",
      "250/250 [==============================] - 17s 68ms/step - loss: 0.4649 - accuracy: 0.7736 - val_loss: 0.4728 - val_accuracy: 0.7840\n",
      "Epoch 9/30\n",
      "250/250 [==============================] - 17s 67ms/step - loss: 0.4496 - accuracy: 0.7880 - val_loss: 0.4676 - val_accuracy: 0.7830\n",
      "Epoch 10/30\n",
      "250/250 [==============================] - 17s 67ms/step - loss: 0.4347 - accuracy: 0.7989 - val_loss: 0.4682 - val_accuracy: 0.7870\n",
      "Epoch 11/30\n",
      "250/250 [==============================] - 18s 70ms/step - loss: 0.4320 - accuracy: 0.7958 - val_loss: 0.4470 - val_accuracy: 0.8025\n",
      "Epoch 12/30\n",
      "250/250 [==============================] - 17s 69ms/step - loss: 0.4121 - accuracy: 0.8111 - val_loss: 0.4496 - val_accuracy: 0.7970\n",
      "Epoch 13/30\n",
      "250/250 [==============================] - 17s 68ms/step - loss: 0.4064 - accuracy: 0.8085 - val_loss: 0.4404 - val_accuracy: 0.7990\n",
      "Epoch 14/30\n",
      "250/250 [==============================] - 17s 68ms/step - loss: 0.3993 - accuracy: 0.8136 - val_loss: 0.4367 - val_accuracy: 0.7915\n",
      "Epoch 15/30\n",
      "250/250 [==============================] - 17s 68ms/step - loss: 0.3861 - accuracy: 0.8253 - val_loss: 0.4404 - val_accuracy: 0.8115\n",
      "Epoch 16/30\n",
      "250/250 [==============================] - 17s 67ms/step - loss: 0.3741 - accuracy: 0.8276 - val_loss: 0.4719 - val_accuracy: 0.7920\n",
      "Epoch 17/30\n",
      "250/250 [==============================] - 17s 69ms/step - loss: 0.3676 - accuracy: 0.8322 - val_loss: 0.4403 - val_accuracy: 0.8100\n",
      "Epoch 18/30\n",
      "250/250 [==============================] - 17s 68ms/step - loss: 0.3585 - accuracy: 0.8361 - val_loss: 0.4384 - val_accuracy: 0.8080\n",
      "Epoch 19/30\n",
      "250/250 [==============================] - 17s 70ms/step - loss: 0.3569 - accuracy: 0.8382 - val_loss: 0.4633 - val_accuracy: 0.7885\n",
      "Epoch 20/30\n",
      "250/250 [==============================] - 17s 67ms/step - loss: 0.3489 - accuracy: 0.8453 - val_loss: 0.4381 - val_accuracy: 0.8085\n",
      "Epoch 21/30\n",
      "250/250 [==============================] - 18s 73ms/step - loss: 0.3285 - accuracy: 0.8546 - val_loss: 0.4335 - val_accuracy: 0.8125\n",
      "Epoch 22/30\n",
      "250/250 [==============================] - 18s 72ms/step - loss: 0.3280 - accuracy: 0.8577 - val_loss: 0.4310 - val_accuracy: 0.8220\n",
      "Epoch 23/30\n",
      "250/250 [==============================] - 17s 69ms/step - loss: 0.3226 - accuracy: 0.8580 - val_loss: 0.4463 - val_accuracy: 0.8060\n",
      "Epoch 24/30\n",
      "250/250 [==============================] - 17s 69ms/step - loss: 0.3131 - accuracy: 0.8620 - val_loss: 0.4558 - val_accuracy: 0.8085\n",
      "Epoch 25/30\n",
      "250/250 [==============================] - 17s 67ms/step - loss: 0.3030 - accuracy: 0.8698 - val_loss: 0.4347 - val_accuracy: 0.8135\n",
      "Epoch 26/30\n",
      "250/250 [==============================] - 17s 67ms/step - loss: 0.3034 - accuracy: 0.8675 - val_loss: 0.4327 - val_accuracy: 0.8100\n",
      "Epoch 27/30\n",
      "250/250 [==============================] - 17s 67ms/step - loss: 0.2915 - accuracy: 0.8740 - val_loss: 0.4438 - val_accuracy: 0.8050\n",
      "Epoch 28/30\n",
      "250/250 [==============================] - 17s 68ms/step - loss: 0.2855 - accuracy: 0.8788 - val_loss: 0.4490 - val_accuracy: 0.8055\n",
      "Epoch 29/30\n",
      "250/250 [==============================] - 17s 66ms/step - loss: 0.2782 - accuracy: 0.8809 - val_loss: 0.4477 - val_accuracy: 0.8170\n",
      "Epoch 30/30\n",
      "250/250 [==============================] - 17s 66ms/step - loss: 0.2778 - accuracy: 0.8794 - val_loss: 0.4988 - val_accuracy: 0.7940\n"
     ]
    },
    {
     "data": {
      "text/plain": [
       "<keras.src.callbacks.History at 0x15c2af1c0>"
      ]
     },
     "execution_count": 41,
     "metadata": {},
     "output_type": "execute_result"
    }
   ],
   "source": [
    "# training on train set and eevaluating on test set\n",
    "cnn.fit(x = training_set, validation_data = test_set, epochs = 30)"
   ]
  },
  {
   "cell_type": "markdown",
   "id": "5d561b63",
   "metadata": {},
   "source": [
    "### Make a single Prediction"
   ]
  },
  {
   "cell_type": "code",
   "execution_count": 42,
   "id": "f8d83dce",
   "metadata": {},
   "outputs": [
    {
     "name": "stdout",
     "output_type": "stream",
     "text": [
      "1/1 [==============================] - 0s 67ms/step\n"
     ]
    }
   ],
   "source": [
    "# step1: load the image using load_img function, it generates a PIL image format\n",
    "# step2: convert PIL format to numpy array using img_to_array()\n",
    "# step3: add an extra dimension, as during training phase we did add batch as an extra dimension, the predict \n",
    "# method expects the single input image to have that batch dimension as well. For that we use expand_dims().\n",
    "# As thebatch dimension comes first and then images, we make axis = 0.\n",
    "test_image = image.load_img('dataset/single_prediction/cat_img.jpeg',\n",
    "                           target_size = (64, 64))\n",
    "test_image = image.img_to_array(test_image)\n",
    "test_image = np.expand_dims(test_image, axis = 0)\n",
    "result = cnn.predict(test_image)"
   ]
  },
  {
   "cell_type": "code",
   "execution_count": 47,
   "id": "777c1c48",
   "metadata": {},
   "outputs": [
    {
     "data": {
      "text/plain": [
       "array([[0.]], dtype=float32)"
      ]
     },
     "execution_count": 47,
     "metadata": {},
     "output_type": "execute_result"
    }
   ],
   "source": [
    "result"
   ]
  },
  {
   "cell_type": "code",
   "execution_count": 44,
   "id": "7199a46c",
   "metadata": {},
   "outputs": [
    {
     "name": "stdout",
     "output_type": "stream",
     "text": [
      "Cat\n"
     ]
    }
   ],
   "source": [
    "# from this we get class indices- dog: 1, cat: 0\n",
    "training_set.class_indices\n",
    "if result[0][0] == 1:\n",
    "    prediction = 'Dog'\n",
    "else:\n",
    "    prediction = 'Cat'\n",
    "print(prediction)"
   ]
  },
  {
   "cell_type": "code",
   "execution_count": 48,
   "id": "c11622ed",
   "metadata": {},
   "outputs": [
    {
     "name": "stdout",
     "output_type": "stream",
     "text": [
      "1/1 [==============================] - 0s 14ms/step\n",
      "Dog\n"
     ]
    }
   ],
   "source": [
    "test_image = image.load_img('dataset/single_prediction/dog.jpeg',\n",
    "                           target_size = (64, 64))\n",
    "test_image = image.img_to_array(test_image)\n",
    "test_image = np.expand_dims(test_image, axis = 0)\n",
    "result = cnn.predict(test_image)\n",
    "if result[0][0] == 1:\n",
    "    prediction = 'Dog'\n",
    "else:\n",
    "    prediction = 'Cat'\n",
    "print(prediction)"
   ]
  },
  {
   "cell_type": "code",
   "execution_count": 49,
   "id": "561c4da1",
   "metadata": {},
   "outputs": [
    {
     "name": "stdout",
     "output_type": "stream",
     "text": [
      "1/1 [==============================] - 0s 12ms/step\n",
      "Cat\n"
     ]
    }
   ],
   "source": [
    "test_image = image.load_img('dataset/single_prediction/dog1.jpeg',\n",
    "                           target_size = (64, 64))\n",
    "test_image = image.img_to_array(test_image)\n",
    "test_image = np.expand_dims(test_image, axis = 0)\n",
    "result = cnn.predict(test_image)\n",
    "if result[0][0] == 1:\n",
    "    prediction = 'Dog'\n",
    "else:\n",
    "    prediction = 'Cat'\n",
    "print(prediction)"
   ]
  },
  {
   "cell_type": "code",
   "execution_count": 50,
   "id": "ce780eae",
   "metadata": {},
   "outputs": [
    {
     "name": "stdout",
     "output_type": "stream",
     "text": [
      "1/1 [==============================] - 0s 15ms/step\n",
      "Dog\n"
     ]
    }
   ],
   "source": [
    "test_image = image.load_img('dataset/single_prediction/dog2.jpeg',\n",
    "                           target_size = (64, 64))\n",
    "test_image = image.img_to_array(test_image)\n",
    "test_image = np.expand_dims(test_image, axis = 0)\n",
    "result = cnn.predict(test_image)\n",
    "if result[0][0] == 1:\n",
    "    prediction = 'Dog'\n",
    "else:\n",
    "    prediction = 'Cat'\n",
    "print(prediction)"
   ]
  },
  {
   "cell_type": "code",
   "execution_count": null,
   "id": "cf57027a",
   "metadata": {},
   "outputs": [],
   "source": []
  }
 ],
 "metadata": {
  "kernelspec": {
   "display_name": "Python 3 (ipykernel)",
   "language": "python",
   "name": "python3"
  },
  "language_info": {
   "codemirror_mode": {
    "name": "ipython",
    "version": 3
   },
   "file_extension": ".py",
   "mimetype": "text/x-python",
   "name": "python",
   "nbconvert_exporter": "python",
   "pygments_lexer": "ipython3",
   "version": "3.10.9"
  }
 },
 "nbformat": 4,
 "nbformat_minor": 5
}
